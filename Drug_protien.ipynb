{
 "cells": [
  {
   "cell_type": "markdown",
   "metadata": {},
   "source": [
    "<h2>Exploring the drug-protein datasets </h2>"
   ]
  },
  {
   "cell_type": "code",
   "execution_count": 4,
   "metadata": {},
   "outputs": [],
   "source": [
    "import matplotlib\n",
    "import matplotlib.pyplot as plt\n",
    "import numpy as np\n",
    "import pandas as pd\n",
    "import sklearn\n",
    "import sklearn.linear_model\n",
    "from sklearn.metrics import mean_squared_error, r2_score\n",
    "import statsmodels.api as sm\n",
    "from sklearn.pipeline import Pipeline\n",
    "from sklearn.preprocessing import StandardScaler\n",
    "from __future__ import division\n",
    "from __future__ import print_function\n",
    "from operator import itemgetter\n",
    "from itertools import combinations\n",
    "import time\n",
    "import os\n",
    "\n",
    "import tensorflow as tf\n",
    "import numpy as np\n",
    "import networkx as nx\n",
    "import scipy.sparse as sp\n",
    "from sklearn import metrics\n",
    "\n",
    "from decagon.deep.optimizer import DecagonOptimizer\n",
    "from decagon.deep.model import DecagonModel\n",
    "from decagon.deep.minibatch import EdgeMinibatchIterator\n",
    "from decagon.utility import rank_metrics, preprocessing"
   ]
  },
  {
   "cell_type": "code",
   "execution_count": 5,
   "metadata": {
    "collapsed": true
   },
   "outputs": [],
   "source": [
    "#bio-decagon-ppi:Protein-protein interaction network\n",
    "#bio-decagon-targets: Drug-target protein associations\n",
    "#bio-decagon-targets-all: Drug-target protein associations culled from several curated databases\n",
    "#bio-decagon-combo:Polypharmacy side effects in the form of (drug A, side effect type, drug B) triples\n",
    "#bio-decagon-effectcategories: Side effect categories\n",
    "#bio-decagon-mono:Side effects of individual drugs in the form of (drug A, side effect type) tuples"
   ]
  },
  {
   "cell_type": "markdown",
   "metadata": {},
   "source": [
    "<h1>Information about the dataset from the paper:</h1>\n",
    "\n",
    "\n",
    "<h2>The drug-prtoein network:</h2>\n",
    "number of proteins = 8,934, number of drugs = 519,022, number of interactions = 8,083,600\n",
    "\n",
    "<h2>Final Network:</h2>\n",
    "<h4>Number of drugs = 645</h4>\n",
    "<h4>Number of drug-protien edges= 18,596</h4>"
   ]
  },
  {
   "cell_type": "code",
   "execution_count": 6,
   "metadata": {
    "collapsed": true
   },
   "outputs": [],
   "source": [
    "drug_target_protein_data = pd.read_csv(\"/Users/ravanv/Desktop/Decagon/data/bio-decagon-targets.csv\", sep=',',header = 0)\n",
    "drug_target_protein_all_data = pd.read_csv(\"/Users/ravanv/Desktop/Decagon/data/bio-decagon-targets-all.csv\", sep=',',header = 0)"
   ]
  },
  {
   "cell_type": "code",
   "execution_count": 7,
   "metadata": {},
   "outputs": [
    {
     "name": "stdout",
     "output_type": "stream",
     "text": [
      "size of the Drug-target protein associations: (18690, 2)\n",
      "size of the Drug-target protein associations culled from several curated databases : (131034, 2)\n"
     ]
    }
   ],
   "source": [
    "print(\"size of the Drug-target protein associations:\", drug_target_protein_data.shape)\n",
    "print(\"size of the Drug-target protein associations culled from several curated databases :\",drug_target_protein_all_data.shape)"
   ]
  },
  {
   "cell_type": "code",
   "execution_count": 8,
   "metadata": {},
   "outputs": [
    {
     "data": {
      "text/plain": [
       "['STITCH', 'Gene']"
      ]
     },
     "execution_count": 8,
     "metadata": {},
     "output_type": "execute_result"
    }
   ],
   "source": [
    "column_list = list(drug_target_protein_data)\n",
    "column_list"
   ]
  },
  {
   "cell_type": "code",
   "execution_count": 9,
   "metadata": {
    "collapsed": true
   },
   "outputs": [],
   "source": [
    "list_drugs = []\n",
    "prev_drug = []\n",
    "for i in range(0,drug_target_protein_data.shape[0]):\n",
    "    if drug_target_protein_data.loc[i][0] not in prev_drug:\n",
    "        list_drugs.append(drug_target_protein_data.loc[i][0])\n",
    "        prev_drug.append(drug_target_protein_data.loc[i][0])"
   ]
  },
  {
   "cell_type": "code",
   "execution_count": 10,
   "metadata": {},
   "outputs": [
    {
     "name": "stdout",
     "output_type": "stream",
     "text": [
      "number of drugs from the drug-target protein data: 284\n"
     ]
    }
   ],
   "source": [
    "print(\"number of drugs from the drug-target protein data:\",len(list_drugs))"
   ]
  },
  {
   "cell_type": "code",
   "execution_count": 11,
   "metadata": {},
   "outputs": [
    {
     "data": {
      "text/plain": [
       "['STITCH', 'Gene']"
      ]
     },
     "execution_count": 11,
     "metadata": {},
     "output_type": "execute_result"
    }
   ],
   "source": [
    "column_list = list(drug_target_protein_all_data)\n",
    "column_list"
   ]
  },
  {
   "cell_type": "code",
   "execution_count": 12,
   "metadata": {
    "collapsed": true
   },
   "outputs": [],
   "source": [
    "list_drugs = []\n",
    "prev_drug = []\n",
    "for i in range(0,drug_target_protein_all_data.shape[0]):\n",
    "    if drug_target_protein_all_data.loc[i][0] not in prev_drug:\n",
    "        list_drugs.append(drug_target_protein_all_data.loc[i][0])\n",
    "        prev_drug.append(drug_target_protein_all_data.loc[i][0])"
   ]
  },
  {
   "cell_type": "code",
   "execution_count": 13,
   "metadata": {},
   "outputs": [
    {
     "name": "stdout",
     "output_type": "stream",
     "text": [
      "number of drugs from the drug-target protein all data: 1774\n"
     ]
    }
   ],
   "source": [
    "print(\"number of drugs from the drug-target protein all data:\",len(list_drugs))"
   ]
  }
 ],
 "metadata": {
  "kernelspec": {
   "display_name": "Python 3",
   "language": "python",
   "name": "python3"
  },
  "language_info": {
   "codemirror_mode": {
    "name": "ipython",
    "version": 3
   },
   "file_extension": ".py",
   "mimetype": "text/x-python",
   "name": "python",
   "nbconvert_exporter": "python",
   "pygments_lexer": "ipython3",
   "version": "3.6.3"
  }
 },
 "nbformat": 4,
 "nbformat_minor": 2
}
