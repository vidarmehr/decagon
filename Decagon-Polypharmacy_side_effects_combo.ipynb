{
 "cells": [
  {
   "cell_type": "markdown",
   "metadata": {},
   "source": [
    "<h2>Exploring the polypharmacy side effect (combo) data</h2>"
   ]
  },
  {
   "cell_type": "code",
   "execution_count": 2,
   "metadata": {},
   "outputs": [],
   "source": [
    "import matplotlib\n",
    "import matplotlib.pyplot as plt\n",
    "import numpy as np\n",
    "import pandas as pd\n",
    "import sklearn\n",
    "import sklearn.linear_model\n",
    "from sklearn.metrics import mean_squared_error, r2_score\n",
    "import statsmodels.api as sm\n",
    "from sklearn.pipeline import Pipeline\n",
    "from sklearn.preprocessing import StandardScaler\n",
    "from __future__ import division\n",
    "from __future__ import print_function\n",
    "from operator import itemgetter\n",
    "from itertools import combinations\n",
    "import time\n",
    "import os\n",
    "\n",
    "import tensorflow as tf\n",
    "import numpy as np\n",
    "import networkx as nx\n",
    "import scipy.sparse as sp\n",
    "from sklearn import metrics\n",
    "\n",
    "from decagon.deep.optimizer import DecagonOptimizer\n",
    "from decagon.deep.model import DecagonModel\n",
    "from decagon.deep.minibatch import EdgeMinibatchIterator\n",
    "from decagon.utility import rank_metrics, preprocessing"
   ]
  },
  {
   "cell_type": "code",
   "execution_count": 3,
   "metadata": {
    "collapsed": true
   },
   "outputs": [],
   "source": [
    "#bio-decagon-ppi:Protein-protein interaction network\n",
    "#bio-decagon-targets: Drug-target protein associations\n",
    "#bio-decagon-targets-all: Drug-target protein associations culled from several curated databases\n",
    "#bio-decagon-combo:Polypharmacy side effects in the form of (drug A, side effect type, drug B) triples\n",
    "#bio-decagon-effectcategories: Side effect categories\n",
    "#bio-decagon-mono:Side effects of individual drugs in the form of (drug A, side effect type) tuples"
   ]
  },
  {
   "cell_type": "markdown",
   "metadata": {},
   "source": [
    "<h2>Some information about the drug-drug network from the paper:</h2>\n",
    "<h3>The drug-drugn network(combination):</h3>\n",
    "number of  drug combinations = 63,473, number of side effect types = 1,318, number of drug combination-side effect association = 4,651,131\n",
    "<h3>Final Network:</h3>\n",
    "\n",
    "<h4>Number of drug-drug edges = 4,651,131</h4>\n",
    "<h4>Number of drug-drug edge types = 1318, they focus on predicting 964 polypharmacy side effects that each occurred in at leat 500 drug combinations.</h4>"
   ]
  },
  {
   "cell_type": "code",
   "execution_count": 8,
   "metadata": {},
   "outputs": [
    {
     "name": "stdout",
     "output_type": "stream",
     "text": [
      "size of the Polypharmacy side effects: (4649441, 4)\n"
     ]
    }
   ],
   "source": [
    "polypharmacy_side_effect_data = pd.read_csv(\"/Users/ravanv/Desktop/Decagon/data/bio-decagon-combo.csv\", sep=',',header = 0)\n",
    "print(\"size of the Polypharmacy side effects:\", polypharmacy_side_effect_data.shape)"
   ]
  },
  {
   "cell_type": "code",
   "execution_count": 9,
   "metadata": {},
   "outputs": [
    {
     "data": {
      "text/plain": [
       "['STITCH 1', 'STITCH 2', 'Polypharmacy Side Effect', 'Side Effect Name']"
      ]
     },
     "execution_count": 9,
     "metadata": {},
     "output_type": "execute_result"
    }
   ],
   "source": [
    "column_list = list(polypharmacy_side_effect_data)\n",
    "column_list"
   ]
  },
  {
   "cell_type": "code",
   "execution_count": 10,
   "metadata": {
    "collapsed": true
   },
   "outputs": [],
   "source": [
    "list_side_effects = []\n",
    "prev_side_effect = []\n",
    "for i in range(0,polypharmacy_side_effect_data.shape[0]):\n",
    "    if polypharmacy_side_effect_data.loc[i][2] not in prev_side_effect:\n",
    "        list_side_effects.append(polypharmacy_side_effect_data.loc[i][2])\n",
    "        prev_side_effect.append(polypharmacy_side_effect_data.loc[i][2])"
   ]
  },
  {
   "cell_type": "code",
   "execution_count": 11,
   "metadata": {},
   "outputs": [
    {
     "data": {
      "text/plain": [
       "1317"
      ]
     },
     "execution_count": 11,
     "metadata": {},
     "output_type": "execute_result"
    }
   ],
   "source": [
    "len(list_side_effects)"
   ]
  }
 ],
 "metadata": {
  "kernelspec": {
   "display_name": "Python 3",
   "language": "python",
   "name": "python3"
  },
  "language_info": {
   "codemirror_mode": {
    "name": "ipython",
    "version": 3
   },
   "file_extension": ".py",
   "mimetype": "text/x-python",
   "name": "python",
   "nbconvert_exporter": "python",
   "pygments_lexer": "ipython3",
   "version": "3.6.3"
  }
 },
 "nbformat": 4,
 "nbformat_minor": 2
}
