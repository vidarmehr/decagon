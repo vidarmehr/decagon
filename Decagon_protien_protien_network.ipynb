{
 "cells": [
  {
   "cell_type": "code",
   "execution_count": 1,
   "metadata": {},
   "outputs": [
    {
     "name": "stderr",
     "output_type": "stream",
     "text": [
      "/Users/ravanv/anaconda3/lib/python3.6/site-packages/statsmodels/compat/pandas.py:56: FutureWarning: The pandas.core.datetools module is deprecated and will be removed in a future version. Please use the pandas.tseries module instead.\n",
      "  from pandas.core import datetools\n",
      "/Users/ravanv/anaconda3/lib/python3.6/importlib/_bootstrap.py:219: RuntimeWarning: compiletime version 3.5 of module 'tensorflow.python.framework.fast_tensor_util' does not match runtime version 3.6\n",
      "  return f(*args, **kwds)\n"
     ]
    }
   ],
   "source": [
    "import matplotlib\n",
    "import matplotlib.pyplot as plt\n",
    "import numpy as np\n",
    "import pandas as pd\n",
    "import sklearn\n",
    "import sklearn.linear_model\n",
    "from sklearn.metrics import mean_squared_error, r2_score\n",
    "import statsmodels.api as sm\n",
    "from sklearn.pipeline import Pipeline\n",
    "from sklearn.preprocessing import StandardScaler\n",
    "from __future__ import division\n",
    "from __future__ import print_function\n",
    "from operator import itemgetter\n",
    "from itertools import combinations\n",
    "import time\n",
    "import os\n",
    "\n",
    "import tensorflow as tf\n",
    "import numpy as np\n",
    "import networkx as nx\n",
    "import scipy.sparse as sp\n",
    "from sklearn import metrics\n",
    "\n",
    "from decagon.deep.optimizer import DecagonOptimizer\n",
    "from decagon.deep.model import DecagonModel\n",
    "from decagon.deep.minibatch import EdgeMinibatchIterator\n",
    "from decagon.utility import rank_metrics, preprocessing"
   ]
  },
  {
   "cell_type": "code",
   "execution_count": 2,
   "metadata": {
    "collapsed": true
   },
   "outputs": [],
   "source": [
    "# Train on CPU (hide GPU) due to memory constraints\n",
    "os.environ['CUDA_VISIBLE_DEVICES'] = \"\"\n",
    "\n",
    "# Train on GPU\n",
    "# os.environ[\"CUDA_DEVICE_ORDER\"] = 'PCI_BUS_ID'\n",
    "# os.environ[\"CUDA_VISIBLE_DEVICES\"] = '0'\n",
    "# config = tf.ConfigProto()\n",
    "# config.gpu_options.allow_growth = True\n",
    "\n",
    "np.random.seed(0)\n",
    "\n",
    "###########################################################\n",
    "#\n",
    "# Functions\n",
    "#\n",
    "###########################################################\n",
    "\n",
    "\n",
    "def get_accuracy_scores(edges_pos, edges_neg, edge_type):\n",
    "    feed_dict.update({placeholders['dropout']: 0})\n",
    "    feed_dict.update({placeholders['batch_edge_type_idx']: minibatch.edge_type2idx[edge_type]})\n",
    "    feed_dict.update({placeholders['batch_row_edge_type']: edge_type[0]})\n",
    "    feed_dict.update({placeholders['batch_col_edge_type']: edge_type[1]})\n",
    "    rec = sess.run(opt.predictions, feed_dict=feed_dict)\n",
    "\n",
    "    def sigmoid(x):\n",
    "        return 1. / (1 + np.exp(-x))\n",
    "\n",
    "    # Predict on test set of edges\n",
    "    preds = []\n",
    "    actual = []\n",
    "    predicted = []\n",
    "    edge_ind = 0\n",
    "    for u, v in edges_pos[edge_type[:2]][edge_type[2]]:\n",
    "        score = sigmoid(rec[u, v])\n",
    "        preds.append(score)\n",
    "        assert adj_mats_orig[edge_type[:2]][edge_type[2]][u,v] == 1, 'Problem 1'\n",
    "\n",
    "        actual.append(edge_ind)\n",
    "        predicted.append((score, edge_ind))\n",
    "        edge_ind += 1\n",
    "\n",
    "    preds_neg = []\n",
    "    for u, v in edges_neg[edge_type[:2]][edge_type[2]]:\n",
    "        score = sigmoid(rec[u, v])\n",
    "        preds_neg.append(score)\n",
    "        assert adj_mats_orig[edge_type[:2]][edge_type[2]][u,v] == 0, 'Problem 0'\n",
    "\n",
    "        predicted.append((score, edge_ind))\n",
    "        edge_ind += 1\n",
    "\n",
    "    preds_all = np.hstack([preds, preds_neg])\n",
    "    preds_all = np.nan_to_num(preds_all)\n",
    "    labels_all = np.hstack([np.ones(len(preds)), np.zeros(len(preds_neg))])\n",
    "    predicted = list(zip(*sorted(predicted, reverse=True, key=itemgetter(0))))[1]\n",
    "\n",
    "    roc_sc = metrics.roc_auc_score(labels_all, preds_all)\n",
    "    aupr_sc = metrics.average_precision_score(labels_all, preds_all)\n",
    "    apk_sc = rank_metrics.apk(actual, predicted, k=50)\n",
    "\n",
    "    return roc_sc, aupr_sc, apk_sc\n",
    "\n",
    "\n",
    "def construct_placeholders(edge_types):\n",
    "    placeholders = {\n",
    "        'batch': tf.placeholder(tf.int32, name='batch'),\n",
    "        'batch_edge_type_idx': tf.placeholder(tf.int32, shape=(), name='batch_edge_type_idx'),\n",
    "        'batch_row_edge_type': tf.placeholder(tf.int32, shape=(), name='batch_row_edge_type'),\n",
    "        'batch_col_edge_type': tf.placeholder(tf.int32, shape=(), name='batch_col_edge_type'),\n",
    "        'degrees': tf.placeholder(tf.int32),\n",
    "        'dropout': tf.placeholder_with_default(0., shape=()),\n",
    "    }\n",
    "    placeholders.update({\n",
    "        'adj_mats_%d,%d,%d' % (i, j, k): tf.sparse_placeholder(tf.float32)\n",
    "        for i, j in edge_types for k in range(edge_types[i,j])})\n",
    "    placeholders.update({\n",
    "        'feat_%d' % i: tf.sparse_placeholder(tf.float32)\n",
    "        for i, _ in edge_types})\n",
    "    return placeholders\n",
    "\n",
    "###########################################################\n",
    "#\n",
    "# Load and preprocess data (This is a dummy toy example!)\n",
    "#\n",
    "###########################################################\n",
    "\n",
    "####\n",
    "# The following code uses artificially generated and very small networks.\n",
    "# Expect less than excellent performance as these random networks do not have any interesting structure.\n",
    "# The purpose of main.py is to show how to use the code!\n",
    "#\n",
    "# All preprocessed datasets used in the drug combination study are at: http://snap.stanford.edu/decagon:\n",
    "# (1) Download datasets from http://snap.stanford.edu/decagon to your local machine.\n",
    "# (2) Replace dummy toy datasets used here with the actual datasets you just downloaded.\n",
    "# (3) Train & test the model.\n",
    "####\n"
   ]
  },
  {
   "cell_type": "code",
   "execution_count": 3,
   "metadata": {
    "collapsed": true
   },
   "outputs": [],
   "source": [
    "#bio-decagon-ppi:Protein-protein interaction network\n",
    "#bio-decagon-targets: Drug-target protein associations\n",
    "#bio-decagon-targets-all: Drug-target protein associations culled from several curated databases\n",
    "#bio-decagon-combo:Polypharmacy side effects in the form of (drug A, side effect type, drug B) triples\n",
    "#bio-decagon-effectcategories: Side effect categories\n",
    "#bio-decagon-mono:Side effects of individual drugs in the form of (drug A, side effect type) tuples"
   ]
  },
  {
   "cell_type": "markdown",
   "metadata": {},
   "source": [
    "<h1>Datasets from the paper:</h1>\n",
    "<h2>The protein-prtoein network:</h2>\n",
    "number of proteins = 19,085, number of physical interactions = 719,402\n",
    "<h2>The drug-prtoein network:</h2>\n",
    "number of proteins = 8,934, number of drugs = 519,022, number of interactions = 8,083,600\n",
    "<h2>The drug-drug network(individuale):</h2>\n",
    "number of  drugs = 1,556, number of side effects = 5,868, number of drug-side effect association = 286,399\n",
    "<h2>The drug-drugn network(combination):</h2>\n",
    "number of  drug combinations = 63,473, number of side effect types = 1,318, number of drug combination-side effect association = 4,651,131\n",
    "<h2>Final Network:</h2>\n",
    "<h4>Number of protiens = 19,085</h4>\n",
    "<h4>Number of drugs = 645</h4>\n",
    "<h4>Number of protien-protien edges= 715,612</h4>\n",
    "<h4>Number of drug-drug edges= 4,651,131</h4>\n",
    "<h4>Number of drug-protien edges= 18,596</h4>"
   ]
  },
  {
   "cell_type": "code",
   "execution_count": 4,
   "metadata": {
    "collapsed": true
   },
   "outputs": [],
   "source": [
    "protein_protein_data = pd.read_csv(\"/Users/ravanv/Desktop/Decagon/data/bio-decagon-ppi.csv\", sep=',',header = 0)\n",
    "drug_target_protein_data = pd.read_csv(\"/Users/ravanv/Desktop/Decagon/data/bio-decagon-targets.csv\", sep=',',header = 0)\n",
    "drug_target_protein_all_data = pd.read_csv(\"/Users/ravanv/Desktop/Decagon/data/bio-decagon-targets-all.csv\", sep=',',header = 0)\n",
    "polypharmacy_side_effect_data = pd.read_csv(\"/Users/ravanv/Desktop/Decagon/data/bio-decagon-combo.csv\", sep=',',header = 0)\n",
    "side_effect_categories_data = pd.read_csv(\"/Users/ravanv/Desktop/Decagon/data/bio-decagon-effectcategories.csv\", sep=',',header = 0)\n",
    "side_effect_individuale_data = pd.read_csv(\"/Users/ravanv/Desktop/Decagon/data/bio-decagon-mono.csv\", sep=',',header = 0)\n"
   ]
  },
  {
   "cell_type": "code",
   "execution_count": 5,
   "metadata": {},
   "outputs": [
    {
     "name": "stdout",
     "output_type": "stream",
     "text": [
      "size of the protein-protien network: (715612, 2)\n",
      "size of the Drug-target protein associations: (18690, 2)\n",
      "size of the Drug-target protein associations culled from several curated databases : (131034, 2)\n",
      "size of the Polypharmacy side effects: (4649441, 4)\n",
      "size of the Side effect categories: (561, 3)\n",
      "size of the Side effects of individual drugs: (174977, 3)\n"
     ]
    }
   ],
   "source": [
    "print(\"size of the protein-protien network:\", protein_protein_data.shape)\n",
    "print(\"size of the Drug-target protein associations:\", drug_target_protein_data.shape)\n",
    "print(\"size of the Drug-target protein associations culled from several curated databases :\",drug_target_protein_all_data.shape)\n",
    "print(\"size of the Polypharmacy side effects:\", polypharmacy_side_effect_data.shape)\n",
    "print(\"size of the Side effect categories:\",side_effect_categories_data.shape)\n",
    "print(\"size of the Side effects of individual drugs:\",side_effect_individuale_data.shape)"
   ]
  },
  {
   "cell_type": "code",
   "execution_count": 6,
   "metadata": {},
   "outputs": [
    {
     "data": {
      "text/plain": [
       "['Gene 1', 'Gene 2']"
      ]
     },
     "execution_count": 6,
     "metadata": {},
     "output_type": "execute_result"
    }
   ],
   "source": [
    "column_list = list(protein_protein_data)\n",
    "column_list"
   ]
  },
  {
   "cell_type": "code",
   "execution_count": 7,
   "metadata": {
    "collapsed": true
   },
   "outputs": [],
   "source": [
    "list_gene1 = []\n",
    "prev_gene = []\n",
    "for i in range(0,protein_protein_data.shape[0]):\n",
    "    if protein_protein_data.loc[i][0] not in prev_gene:\n",
    "        list_gene1.append(protein_protein_data.loc[i][0])\n",
    "        prev_gene.append(protein_protein_data.loc[i][0])"
   ]
  },
  {
   "cell_type": "code",
   "execution_count": 8,
   "metadata": {},
   "outputs": [
    {
     "data": {
      "text/plain": [
       "17544"
      ]
     },
     "execution_count": 8,
     "metadata": {},
     "output_type": "execute_result"
    }
   ],
   "source": [
    "len(list_gene1)"
   ]
  },
  {
   "cell_type": "code",
   "execution_count": 9,
   "metadata": {
    "collapsed": true
   },
   "outputs": [],
   "source": [
    "list_gene2 = []\n",
    "prev_gene = []\n",
    "for i in range(0,protein_protein_data.shape[0]):\n",
    "    if protein_protein_data.loc[i][1] not in prev_gene:\n",
    "        list_gene2.append(protein_protein_data.loc[i][1])\n",
    "        prev_gene.append(protein_protein_data.loc[i][1])"
   ]
  },
  {
   "cell_type": "code",
   "execution_count": 10,
   "metadata": {},
   "outputs": [
    {
     "data": {
      "text/plain": [
       "17472"
      ]
     },
     "execution_count": 10,
     "metadata": {},
     "output_type": "execute_result"
    }
   ],
   "source": [
    "len(list_gene2)"
   ]
  },
  {
   "cell_type": "code",
   "execution_count": 23,
   "metadata": {
    "collapsed": true
   },
   "outputs": [],
   "source": [
    "def intersection(list1, list2):\n",
    "    lst3 = [value for value in list1 if value in list2]\n",
    "    return lst3\n",
    "def onlylist(lst,intersect):\n",
    "    lst3 = [value for value in lst if value not in intersect]\n",
    "    return lst3"
   ]
  },
  {
   "cell_type": "code",
   "execution_count": 24,
   "metadata": {
    "collapsed": true
   },
   "outputs": [],
   "source": [
    "intersect = intersection(list_gene2,list_gene1)\n",
    "list1_only = onlylist(list_gene1,intersect)\n",
    "list2_only = onlylist(list_gene2,intersect)"
   ]
  },
  {
   "cell_type": "code",
   "execution_count": 21,
   "metadata": {
    "collapsed": true
   },
   "outputs": [],
   "source": [
    "list_proteins = intersect + list1_only + list2_only"
   ]
  },
  {
   "cell_type": "code",
   "execution_count": 22,
   "metadata": {},
   "outputs": [
    {
     "name": "stdout",
     "output_type": "stream",
     "text": [
      "number of protiens in the first column =  1609\n",
      "number of protiens in the second column =  1537\n",
      "number of protiens that exist in both columns =  15935\n",
      "total number of protiens  =  19081\n"
     ]
    }
   ],
   "source": [
    "print(\"number of protiens in the first column = \", len(list1_only))\n",
    "print(\"number of protiens in the second column = \", len(list2_only))\n",
    "print(\"number of protiens that exist in both columns = \",len(intersect))\n",
    "print(\"total number of protiens  = \",len(list_proteins))"
   ]
  },
  {
   "cell_type": "markdown",
   "metadata": {},
   "source": [
    "<h2>Number of protiens in the paper is 19,085, while I found 19,081 proteins! </h2>"
   ]
  }
 ],
 "metadata": {
  "kernelspec": {
   "display_name": "Python 3",
   "language": "python",
   "name": "python3"
  },
  "language_info": {
   "codemirror_mode": {
    "name": "ipython",
    "version": 3
   },
   "file_extension": ".py",
   "mimetype": "text/x-python",
   "name": "python",
   "nbconvert_exporter": "python",
   "pygments_lexer": "ipython3",
   "version": "3.6.3"
  }
 },
 "nbformat": 4,
 "nbformat_minor": 2
}
